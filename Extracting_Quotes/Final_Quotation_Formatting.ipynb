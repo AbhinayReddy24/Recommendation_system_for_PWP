{
 "cells": [
  {
   "cell_type": "code",
   "execution_count": 2,
   "metadata": {},
   "outputs": [],
   "source": [
    "import re\n",
    "\n",
    "# Read the text data from a file\n",
    "with open('Quotations.txt', 'r') as file:\n",
    "    health_messages = file.readlines()\n",
    "\n",
    "# Remove \"Day X:\" prefixes from each message\n",
    "health_messages = [re.sub(r'^Day \\d+:', '', message).strip() for message in health_messages]\n",
    "\n",
    "# Continue with the rest of the preprocessing steps (lowercasing, removing punctuation, tokenization, and removing stopwords)\n"
   ]
  },
  {
   "cell_type": "code",
   "execution_count": 3,
   "metadata": {},
   "outputs": [
    {
     "name": "stderr",
     "output_type": "stream",
     "text": [
      "[nltk_data] Downloading package stopwords to\n",
      "[nltk_data]     /Users/abhinay/nltk_data...\n",
      "[nltk_data]   Package stopwords is already up-to-date!\n"
     ]
    },
    {
     "data": {
      "text/plain": [
       "True"
      ]
     },
     "execution_count": 3,
     "metadata": {},
     "output_type": "execute_result"
    }
   ],
   "source": [
    "import nltk\n",
    "nltk.download('stopwords')\n"
   ]
  },
  {
   "cell_type": "code",
   "execution_count": 4,
   "metadata": {},
   "outputs": [],
   "source": [
    "# Read the text data from a file\n",
    "with open('Quotations.txt', 'r') as file:\n",
    "    health_messages = file.readlines()\n"
   ]
  },
  {
   "cell_type": "code",
   "execution_count": 7,
   "metadata": {},
   "outputs": [
    {
     "name": "stderr",
     "output_type": "stream",
     "text": [
      "[nltk_data] Downloading package punkt to /Users/abhinay/nltk_data...\n",
      "[nltk_data]   Unzipping tokenizers/punkt.zip.\n",
      "[nltk_data] Downloading package stopwords to\n",
      "[nltk_data]     /Users/abhinay/nltk_data...\n",
      "[nltk_data]   Package stopwords is already up-to-date!\n"
     ]
    },
    {
     "data": {
      "text/plain": [
       "True"
      ]
     },
     "execution_count": 7,
     "metadata": {},
     "output_type": "execute_result"
    }
   ],
   "source": [
    "import nltk\n",
    "nltk.download('punkt')\n",
    "nltk.download('stopwords')\n"
   ]
  },
  {
   "cell_type": "code",
   "execution_count": 4,
   "metadata": {},
   "outputs": [],
   "source": [
    "import string\n",
    "from nltk.corpus import stopwords\n",
    "from nltk.tokenize import word_tokenize\n",
    "\n",
    "# Lowercase and remove punctuation\n",
    "health_messages = [message.lower() for message in health_messages]\n",
    "health_messages = [''.join(c for c in message if c not in string.punctuation) for message in health_messages]\n",
    "\n",
    "# Tokenize and remove stopwords\n",
    "stop_words = set(stopwords.words('english'))\n",
    "health_messages = [word_tokenize(message) for message in health_messages]\n",
    "health_messages = [[word for word in message if word not in stop_words] for message in health_messages]\n"
   ]
  },
  {
   "cell_type": "code",
   "execution_count": 8,
   "metadata": {},
   "outputs": [],
   "source": [
    "import re\n",
    "import pandas as pd\n",
    "\n",
    "# Read the text data from a file\n",
    "with open('Quotations.txt', 'r') as file:\n",
    "    health_messages = file.readlines()\n",
    "\n",
    "# Remove \"Day X:\" prefixes from each message\n",
    "health_messages = [re.sub(r'^Day \\d+:', '', message) for message in health_messages]\n",
    "\n",
    "# Create a DataFrame to store the preprocessed messages\n",
    "df = pd.DataFrame({'Preprocessed_Messages': health_messages})\n",
    "\n",
    "# Save the DataFrame to a CSV file\n",
    "df.to_csv('preprocessed_health_messages.csv', index=False)\n"
   ]
  },
  {
   "cell_type": "code",
   "execution_count": 9,
   "metadata": {},
   "outputs": [],
   "source": [
    "import re\n",
    "import pandas as pd\n",
    "import string\n",
    "from nltk.corpus import stopwords\n",
    "from nltk.tokenize import word_tokenize\n",
    "\n",
    "# Read the text data from a file\n",
    "with open('Quotations.txt', 'r') as file:\n",
    "    health_messages = file.readlines()\n",
    "\n",
    "# Remove \"Day X:\" prefixes from each message\n",
    "health_messages = [re.sub(r'^Day \\d+:', '', message) for message in health_messages]\n",
    "\n",
    "# Preprocess the messages (lowercasing, removing punctuation, tokenization, and removing stopwords)\n",
    "stop_words = set(stopwords.words('english'))\n",
    "preprocessed_messages = []\n",
    "\n",
    "for message in health_messages:\n",
    "    # Lowercase and remove punctuation\n",
    "    message = message.lower()\n",
    "    message = ''.join(c for c in message if c not in string.punctuation)\n",
    "    \n",
    "    # Tokenize and remove stopwords\n",
    "    message_tokens = word_tokenize(message)\n",
    "    message_tokens = [word for word in message_tokens if word not in stop_words]\n",
    "    \n",
    "    # Join tokens back into a cleaned message\n",
    "    cleaned_message = ' '.join(message_tokens)\n",
    "    preprocessed_messages.append(cleaned_message)\n",
    "\n",
    "# Create a DataFrame to store the preprocessed messages\n",
    "df = pd.DataFrame({'Preprocessed_Messages': preprocessed_messages})\n",
    "\n",
    "# Save the DataFrame to a CSV file\n",
    "df.to_csv('preprocessed_health_messages.csv', index=False)\n"
   ]
  },
  {
   "cell_type": "code",
   "execution_count": null,
   "metadata": {},
   "outputs": [],
   "source": []
  }
 ],
 "metadata": {
  "kernelspec": {
   "display_name": "Python 3",
   "language": "python",
   "name": "python3"
  },
  "language_info": {
   "codemirror_mode": {
    "name": "ipython",
    "version": 3
   },
   "file_extension": ".py",
   "mimetype": "text/x-python",
   "name": "python",
   "nbconvert_exporter": "python",
   "pygments_lexer": "ipython3",
   "version": "3.9.6"
  },
  "orig_nbformat": 4
 },
 "nbformat": 4,
 "nbformat_minor": 2
}
