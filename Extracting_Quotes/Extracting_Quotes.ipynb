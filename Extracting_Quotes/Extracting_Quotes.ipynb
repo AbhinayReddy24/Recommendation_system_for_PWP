{
 "cells": [
  {
   "cell_type": "code",
   "execution_count": 1,
   "metadata": {},
   "outputs": [],
   "source": [
    "from bs4 import BeautifulSoup\n",
    "import requests"
   ]
  },
  {
   "cell_type": "code",
   "execution_count": 2,
   "metadata": {},
   "outputs": [],
   "source": [
    "url = 'https://parkinsonsdisease.net/living/positive-quotes'\n",
    "response = requests.get(url)\n",
    "soup = BeautifulSoup(response.text, 'html.parser')\n"
   ]
  },
  {
   "cell_type": "code",
   "execution_count": 6,
   "metadata": {},
   "outputs": [
    {
     "name": "stdout",
     "output_type": "stream",
     "text": [
      "The past few months have been both rewarding and difficult. These difficult times have changed all of us, directly or indirectly. For personal reasons, I have been writing quotes on many different aspects of life almost every day since March 2020. The quotes are just random thoughts, ideas, or expressions that I have organized into 4 categories:Living with Parkinson'sLove and caring for othersStaying positive and being hopefulLife's journeyIncluded here are 30 days of quotes I have written to help you navigate life in the presence of Parkinson’s. Quotes about living with Parkinson's diseaseLife is never meant to be easy, but living with Parkinson’s can be a real challenge. You will have some very good days, some in between, and some days that are not okay. My hope is that these quotes resonate with you and help you keep going into the future. The notion of how you live out your life with Parkinson's is of special interest to me. Parkinson's disease is uniquely special to each person, most of it is lived deep within and is not usually exposed. Therefore, how you live your life with respect and honor in the presence of Parkinson's matters, it matters a lot.I wrote these quotes when something \"felt off\" in me. For example, some asymmetry in my hips, some drug dose not quite as effective as it should be, more stiffness than expected for that time of the day, etc. Re-reading these words serves as a reminder that not every minute of each day is bad. They reassure me that life with Parkinson's remains a challenge, however, I accept it fully each day. Day 1: We cannot lose hope. We must try to remain positive and live each day with this disorder.Day 2: As you get older in life, it’s better to be in pain than to rust, to overuse than not to use; just keep exercising and accept the mainly positive consequences.Day 3: Being physically fit is a choice. Exercise your brain, heart, and body. Do it for your whole life-wellness.Day 4: Live each day; your disorder does not own you. Make every new day better; always remember, you are still in charge.Day 5: There will always be events in your life that are memorable. Yet, it is the day-to-day events, the mundane the usual the everyday times that will add-on and build your life, happiness, and success. Every day, every hour, every minute, they all matter.Day 6: Don’t stop believing in your potential and your focus on excellence. Don’t ever lose hope, and never give up on you.Day 7: Parkinson’s will never stop for a break; you must never give in or give up. If this disorder keeps going, you must keep going even stronger. Stay focused, persistent, and determined.Quotes about love and caring for othersBeing supported by others who care and love you is a very important aspect of life. May these words ring true to your heart as they do to mine.Maybe you have had the same partner for 40 years (congratulations if so!) or maybe you are like me, married twice, and still trying to sort out this aspect of life. I wrote these quotes as a means to establish a baseline feeling for someone, regardless of if that person is a spouse/partner, a very close friend, or someone you are dating.Day 8: What matters the most in life-events is not whether you won or lost (they’ll always be winners and losers) but the thoughtful and caring manner of your effort. Day 9: In the dark, your voice provides the directions onward. In the darkness, your heart lights the path out. In the depth of darkness, your love answers the call and rings the bell of truth and honor.Day 10: Under any life-circumstance, try to make something good from a difficult experience.Day 11: I loved you yesterday. I love you now, today. I will love you the next day, tomorrow; a promise, as will the sun also rise in the morning.Day 12:\n",
      "I was gathering my thoughts today on loving you.\n",
      "I was gathering my dreams today on loving you.\n",
      "I was gathering my hopes today on loving you.\n",
      "I was gathering my future (years) today on loving you.\n",
      "I was gathering my feelings today on loving you.\n",
      "Thoughts, dreams, hopes, future (years), and feelings for you, and I felt you in my heart.\n",
      "I was gathering much today, all in favor of loving you, and truly being loved by you.Day 13: Love someone such that there’s no doubt in your mind when you wake up the next morning of their feelings.Day 14: When I say I love you, I mean it so much. When I say I care for you, I mean it from the bottom of my heart. When I do most things in my life that requires me to think deeply, you are always part of that deep thought, you really are part of the fabric of my life.Quotes about staying positive and being hopefulThe attitude you bring with you everyday matters, especially with Parkinson’s. Some days it’s easy to lose hope and be negative. I hope these words help you reinforce the positive and to remain hopeful.Simple for me, a positive attitude rules. Taking the time to focus on the positive and happiness of your situation, even with Parkinson's, you can truly appreciate life. My words are usually known to be positive and reinforcing, not reflective of sadness or giving up. I write these quotes usually when a positive thought comes to my mind, when someone crosses my path whom I haven't heard from in a while, or simply, because something positive happened that day.Day 15: Don't give up, don't ever stop. Don't lose momentum by waiting for credit or validation because if you're doing great, just keep going and don't give up or lose hope.Day 16: Always remember to be positive. Be thoughtful. Be clear during times of confusion. Be mindful. Always strive to be grateful. Be supportive. Be strong during moments of weakness. Be hopeful.Day 17: If you want to be like Michael Jordan, always remember his words \"It started with hope.\" To me that says, work harder than anyone else, take it forward, stay focused, use your natural-talent to your best interest, and never lose hope.Day 18: The little nagging pain when you stretch in the morning combined with those increasingly common age-related ego-bruising body-injuries. Take care of your body at the same time; live your life being positive, strong, and always caring for others.Day 19: How you respond to adversity establishes a life-pattern. Hopefully, the result strengthens your resolve to be positive, keep learning, and never to lose your grasp on hope.Day 20: Keep working. Keep thinking. Keep hope alive. Stay motivated. Stay positive. Stay active. There is always more to do and improve.Day 21: Positivity is the key that opens the door into a house without any lights on. Hope is the switch that turns on the lights as you enter that same dark house.Quotes about life's journeyLife is a journey, and life’s journey with Parkinson’s requires tenacity and balance. May these words assist your journey as you manage daily life with Parkinson’s. Have more fun, or take more time to breathe the fresh air with your life's journey. Whatever it takes, always remember, it is your journey. If you are satisfied, then so be it. These quotes were all written when I had taken a break, a big gulp of air, or a recommitment to do something different. And I simply reminded myself that my life's here, why not take off and soar today?Day 22: Be an inspiration for other people with Parkinson’s such that they might say, because of you, I did not give up.Day 23: We start a new journey every day. And while the destinations vary from day to day, the collective paths will ultimately accumulate to be the road of our life.Day 24: Challenging times lead to challenging decisions. Embrace the challenge and trust your instincts to make the best decision.Day 25: Some days they’ll be clouds and rain in your life, and you’ll forget these times. In its place, stay focused, don’t panic, breathe and stay calm, and keep moving forward. This collective and sustained effort will bring the sunshine with you.Day 26: You are still in charge of the script of your life. Your task is to compose the most hopeful and helpful storyline and then live it the way you want.Day 27: The current moment was a gift to you. Your life is composed of many such moments. Be mindful of this time. Enjoy it. Embrace it. Live it fully.Day 28: As the sun rises this morning, do something that is meaningful today that will make you proud tomorrow.Day 29:\n",
      "You are always learning. You are always growing. You take positive from negative. You build strength from weakness. Your heart expands as you experience loving relationships. You create hope from moments of doubt. The strengths of your character positively evolve as you live through your life.Day 30: Live your life with a prism reflecting rays of hope. Keep your life in the present moment by balancing the past and future. And strive to give others support by sharing your courage, compassion, knowledge, and love.I hope these helpCassandra Clare said that \"we live and breathe words.\" If any of these quotes resonate with you and help in any way during your daily life with Parkinson's, then I am most happy.I end this post with a picture of my favorite bird - a pelican resting on a pier at the beach - and 1 final quote. Stay healthy and be safe.Are there any quotes that help you in your PD journey? Share in the comments below. Sign up for emails from ParkinsonsDisease.net:  Subscribe By providing your email address, you are agreeing to our  privacy policy. Recommended Article Living with Parkinson’s A Moment at a Time Reactions 0  reactions Comments18 comments Recommended Article My Problem with Parkinson's Disease and Spatial AwarenessReactions 0  reactions Comments8 comments\n"
     ]
    }
   ],
   "source": [
    "quotes = soup.find_all(class_='content')\n",
    "for quote in quotes:\n",
    "    quote_text = quote.text\n",
    "    print(quote_text)"
   ]
  },
  {
   "cell_type": "code",
   "execution_count": 3,
   "metadata": {},
   "outputs": [],
   "source": [
    "from bs4 import BeautifulSoup\n",
    "import requests\n",
    "\n",
    "# Send a request to the website\n",
    "url = 'https://parkinsonsdisease.net/living/positive-quotes'  # Replace with the URL of the webpage you want to scrape\n",
    "response = requests.get(url)\n",
    "\n",
    "# Parse the HTML\n",
    "soup = BeautifulSoup(response.text, 'html.parser')\n",
    "\n",
    "# Find all paragraphs containing quotes\n",
    "quote_paragraphs = soup.find_all('p')  # Adjust the HTML element if necessary\n",
    "\n",
    "# Create a function to filter and extract quotes starting with 'Day'\n",
    "def is_day_quote(text):\n",
    "    return text.strip().startswith('Day')\n",
    "\n",
    "# Extract and filter quotes\n",
    "day_quotes = [quote.get_text() for quote in quote_paragraphs if is_day_quote(quote.get_text())]\n",
    "\n",
    "# Save the quotes to a text file\n",
    "with open('Quotations.txt', 'w', encoding='utf-8') as file:\n",
    "    file.write('\\n'.join(day_quotes))\n"
   ]
  },
  {
   "cell_type": "code",
   "execution_count": null,
   "metadata": {},
   "outputs": [],
   "source": []
  }
 ],
 "metadata": {
  "kernelspec": {
   "display_name": "Python 3",
   "language": "python",
   "name": "python3"
  },
  "language_info": {
   "codemirror_mode": {
    "name": "ipython",
    "version": 3
   },
   "file_extension": ".py",
   "mimetype": "text/x-python",
   "name": "python",
   "nbconvert_exporter": "python",
   "pygments_lexer": "ipython3",
   "version": "3.9.6"
  },
  "orig_nbformat": 4
 },
 "nbformat": 4,
 "nbformat_minor": 2
}
