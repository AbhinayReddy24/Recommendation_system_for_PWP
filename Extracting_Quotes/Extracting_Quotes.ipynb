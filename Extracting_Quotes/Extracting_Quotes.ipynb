{
 "cells": [
  {
   "cell_type": "code",
   "execution_count": 1,
   "metadata": {},
   "outputs": [],
   "source": [
    "from bs4 import BeautifulSoup\n",
    "import requests"
   ]
  },
  {
   "cell_type": "code",
   "execution_count": 2,
   "metadata": {},
   "outputs": [],
   "source": [
    "url = 'https://parkinsonsdisease.net/living/positive-quotes'\n",
    "response = requests.get(url)\n",
    "soup = BeautifulSoup(response.text, 'html.parser')\n"
   ]
  },
  {
   "cell_type": "code",
   "execution_count": 3,
   "metadata": {},
   "outputs": [],
   "source": [
    "from bs4 import BeautifulSoup\n",
    "import requests\n",
    "\n",
    "# Send a request to the website\n",
    "url = 'https://parkinsonsdisease.net/living/positive-quotes'  # Replace with the URL of the webpage you want to scrape\n",
    "response = requests.get(url)\n",
    "\n",
    "# Parse the HTML\n",
    "soup = BeautifulSoup(response.text, 'html.parser')\n",
    "\n",
    "# Find all paragraphs containing quotes\n",
    "quote_paragraphs = soup.find_all('p')  # Adjust the HTML element if necessary\n",
    "\n",
    "# Create a function to filter and extract quotes starting with 'Day'\n",
    "def is_day_quote(text):\n",
    "    return text.strip().startswith('Day')\n",
    "\n",
    "# Extract and filter quotes\n",
    "day_quotes = [quote.get_text() for quote in quote_paragraphs if is_day_quote(quote.get_text())]\n",
    "\n",
    "# Save the quotes to a text file\n",
    "with open('Quotations.txt', 'w', encoding='utf-8') as file:\n",
    "    file.write('\\n'.join(day_quotes))\n"
   ]
  },
  {
   "cell_type": "code",
   "execution_count": null,
   "metadata": {},
   "outputs": [],
   "source": []
  }
 ],
 "metadata": {
  "kernelspec": {
   "display_name": "Python 3",
   "language": "python",
   "name": "python3"
  },
  "language_info": {
   "codemirror_mode": {
    "name": "ipython",
    "version": 3
   },
   "file_extension": ".py",
   "mimetype": "text/x-python",
   "name": "python",
   "nbconvert_exporter": "python",
   "pygments_lexer": "ipython3",
   "version": "3.9.6"
  },
  "orig_nbformat": 4
 },
 "nbformat": 4,
 "nbformat_minor": 2
}
