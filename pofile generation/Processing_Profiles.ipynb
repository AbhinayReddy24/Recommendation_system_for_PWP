{
 "cells": [
  {
   "cell_type": "code",
   "execution_count": 2,
   "metadata": {},
   "outputs": [],
   "source": [
    "import pandas as pd\n",
    "\n",
    "# Load the data\n",
    "data = pd.read_csv('fake_health_profiles.csv')\n",
    "\n",
    "# Drop the 'Name' and 'Recent Medical Procedure' columns as they are not needed\n",
    "data.drop(columns=['Name', 'Recent Medical Procedure'], inplace=True)\n",
    "\n",
    "# Convert 'Gender' to binary encoding (0 for Female, 1 for Male)\n",
    "data['Gender'] = data['Gender'].map({'Female': 0, 'Male': 1})\n",
    "\n",
    "# Convert 'Blood Type' to one-hot encoding\n",
    "data = pd.get_dummies(data, columns=['Blood Type', \"Parkinson's Subtype\"])\n",
    "\n",
    "# Extract 'Blood Pressure' as separate columns and convert to numeric\n",
    "data[['Systolic', 'Diastolic']] = data['Blood Pressure'].str.replace(' mmHg', '').str.split('/', expand=True).astype(int)\n",
    "data.drop(columns=['Blood Pressure'], inplace=True)\n",
    "\n",
    "# Convert 'Exercise Habits' to binary encoding (0 for \"Not Daily\", 1 for \"Daily\")\n",
    "data['Exercise Habits'] = data['Exercise Habits'].map({'Not Daily': 0, 'Daily': 1})\n",
    "\n",
    "# If needed, preprocess 'Mental Health' using ordinal encoding\n",
    "data['Mental Health'] = data['Mental Health'].map({'Fair': 1, 'Good': 2, 'Excellent': 3})\n",
    "\n",
    "# Now, 'BMI' remains as a numerical column\n",
    "\n",
    "# Save the preprocessed data to a new CSV file if needed\n",
    "data.to_csv('preprocessed_health_profiles.csv', index=False)\n"
   ]
  }
 ],
 "metadata": {
  "kernelspec": {
   "display_name": "Python 3",
   "language": "python",
   "name": "python3"
  },
  "language_info": {
   "codemirror_mode": {
    "name": "ipython",
    "version": 3
   },
   "file_extension": ".py",
   "mimetype": "text/x-python",
   "name": "python",
   "nbconvert_exporter": "python",
   "pygments_lexer": "ipython3",
   "version": "3.9.6"
  },
  "orig_nbformat": 4
 },
 "nbformat": 4,
 "nbformat_minor": 2
}
