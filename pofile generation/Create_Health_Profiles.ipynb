{
 "cells": [
  {
   "cell_type": "code",
   "execution_count": 2,
   "metadata": {},
   "outputs": [],
   "source": [
    "from faker import Faker\n",
    "import csv\n",
    "import random\n",
    "\n",
    "fake = Faker()\n",
    "\n",
    "# Define the number of fake health profiles you want to generate\n",
    "num_profiles = 1000\n",
    "\n",
    "# List of Parkinson's disease subtypes\n",
    "parkinsons_subtypes = [\n",
    "    \"Idiopathic Parkinson's Disease\",\n",
    "    \"Young-Onset Parkinson's Disease\",\n",
    "    \"Late-Onset Parkinson's Disease\",\n",
    "    \"Genetic Parkinson's Disease\",\n",
    "    \"Secondary Parkinsonism\",\n",
    "    \"Atypical Parkinsonism\",\n",
    "    \"Vascular Parkinsonism\",\n",
    "    \"Drug-Induced Parkinsonism\",\n",
    "    \"Parkinsonism-plus syndromes\",\n",
    "    \"Hereditary Parkinsonism\",\n",
    "    \"Postural Instability\",\n",
    "    \"Gait Disorder\"\n",
    "]\n",
    "\n",
    "# Create a CSV file to store the fake health profiles\n",
    "with open('fake_health_profiles.csv', 'w', newline='') as csvfile:\n",
    "    fieldnames = [\n",
    "        'Name', 'Age', 'Gender', 'Blood Type', 'Weight (kg)', 'Height (cm)',\n",
    "        'Parkinson\\'s Subtype', 'Blood Pressure', 'Exercise Habits',\n",
    "        'Recent Medical Procedure', 'Mental Health', 'BMI'\n",
    "    ]\n",
    "    writer = csv.DictWriter(csvfile, fieldnames=fieldnames)\n",
    "\n",
    "    # Write the header row to the CSV file\n",
    "    writer.writeheader()\n",
    "\n",
    "    # Generate and write fake health profiles to the CSV file\n",
    "    for _ in range(num_profiles):\n",
    "        profile = {\n",
    "            'Name': fake.name(),\n",
    "            'Age': fake.random_int(min=18, max=80),\n",
    "            'Gender': fake.random_element(elements=('Male', 'Female', 'Other')),\n",
    "            'Blood Type': fake.random_element(elements=('A+', 'A-', 'B+', 'B-', 'O+', 'O-', 'AB+', 'AB-')),\n",
    "            'Weight (kg)': round(random.uniform(40, 150), 1),\n",
    "            'Height (cm)': fake.random_int(min=140, max=210),\n",
    "            'Parkinson\\'s Subtype': fake.random_element(elements=parkinsons_subtypes),\n",
    "            'Blood Pressure': f\"{fake.random_int(min=90, max=180)} / {fake.random_int(min=60, max=120)} mmHg\",\n",
    "            'Exercise Habits': fake.random_element(elements=('Daily', 'Weekly', 'Rarely', 'None')),\n",
    "            'Recent Medical Procedure': fake.sentence(nb_words=6),\n",
    "            'Mental Health': fake.random_element(elements=('Good', 'Fair', 'Poor')),\n",
    "            'BMI': round(random.uniform(15, 40), 2)\n",
    "        }\n",
    "        writer.writerow(profile)\n"
   ]
  },
  {
   "cell_type": "code",
   "execution_count": null,
   "metadata": {},
   "outputs": [],
   "source": []
  }
 ],
 "metadata": {
  "kernelspec": {
   "display_name": "Python 3",
   "language": "python",
   "name": "python3"
  },
  "language_info": {
   "codemirror_mode": {
    "name": "ipython",
    "version": 3
   },
   "file_extension": ".py",
   "mimetype": "text/x-python",
   "name": "python",
   "nbconvert_exporter": "python",
   "pygments_lexer": "ipython3",
   "version": "3.9.6"
  },
  "orig_nbformat": 4
 },
 "nbformat": 4,
 "nbformat_minor": 2
}
