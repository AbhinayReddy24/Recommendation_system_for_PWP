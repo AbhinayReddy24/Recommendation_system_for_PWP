{
 "cells": [
  {
   "attachments": {},
   "cell_type": "markdown",
   "metadata": {},
   "source": [
    "This is the example \n",
    "This code is entirely from chagpt"
   ]
  },
  {
   "cell_type": "code",
   "execution_count": 1,
   "metadata": {},
   "outputs": [],
   "source": [
    "import pandas as pd\n",
    "from sklearn.feature_extraction.text import TfidfVectorizer\n",
    "from sklearn.metrics.pairwise import cosine_similarity\n",
    "from sklearn.metrics import pairwise_distances\n",
    "from scipy import sparse\n"
   ]
  },
  {
   "cell_type": "code",
   "execution_count": null,
   "metadata": {},
   "outputs": [],
   "source": [
    "# # Preprocess and vectorize the health messages\n",
    "# tfidf_vectorizer = TfidfVectorizer(max_features=5000, stop_words='english')\n",
    "# tfidf_matrix = tfidf_vectorizer.fit_transform(data['health_messages'])\n",
    "\n",
    "# # Calculate cosine similarity between messages and user profiles\n",
    "# content_similarity = cosine_similarity(tfidf_matrix, user_profiles)\n"
   ]
  },
  {
   "cell_type": "code",
   "execution_count": null,
   "metadata": {},
   "outputs": [],
   "source": [
    "# # Create a user-item interaction matrix\n",
    "# interaction_matrix = pd.pivot_table(data, index='user_id', columns='message_id', values='interaction', fill_value=0)\n",
    "\n",
    "# # Calculate user-user similarity (you can also use item-item similarity)\n",
    "# user_similarity = 1 - pairwise_distances(interaction_matrix, metric='cosine')\n",
    "\n",
    "# # Predict user preferences based on collaborative filtering\n",
    "# user_predicted_preferences = user_similarity.dot(interaction_matrix)\n",
    "\n"
   ]
  },
  {
   "cell_type": "code",
   "execution_count": null,
   "metadata": {},
   "outputs": [],
   "source": [
    "# alpha = 0.5  # Adjust the weight based on your preference\n",
    "# hybrid_recommendations = (alpha * content_similarity) + ((1 - alpha) * user_predicted_preferences)\n"
   ]
  }
 ],
 "metadata": {
  "kernelspec": {
   "display_name": "Python 3",
   "language": "python",
   "name": "python3"
  },
  "language_info": {
   "codemirror_mode": {
    "name": "ipython",
    "version": 3
   },
   "file_extension": ".py",
   "mimetype": "text/x-python",
   "name": "python",
   "nbconvert_exporter": "python",
   "pygments_lexer": "ipython3",
   "version": "3.9.6"
  },
  "orig_nbformat": 4
 },
 "nbformat": 4,
 "nbformat_minor": 2
}
